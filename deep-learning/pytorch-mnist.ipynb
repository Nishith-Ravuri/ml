{
  "nbformat": 4,
  "nbformat_minor": 0,
  "metadata": {
    "colab": {
      "provenance": [],
      "authorship_tag": "ABX9TyPdZDoZQ+8QmYqiWXI0aP7N",
      "include_colab_link": true
    },
    "kernelspec": {
      "name": "python3",
      "display_name": "Python 3"
    },
    "language_info": {
      "name": "python"
    }
  },
  "cells": [
    {
      "cell_type": "markdown",
      "metadata": {
        "id": "view-in-github",
        "colab_type": "text"
      },
      "source": [
        "<a href=\"https://colab.research.google.com/github/Nishith-Ravuri/ml/blob/main/deep-learning/pytorch-mnist.ipynb\" target=\"_parent\"><img src=\"https://colab.research.google.com/assets/colab-badge.svg\" alt=\"Open In Colab\"/></a>"
      ]
    },
    {
      "cell_type": "code",
      "execution_count": null,
      "metadata": {
        "id": "Z8idP36HUQ20"
      },
      "outputs": [],
      "source": []
    },
    {
      "cell_type": "markdown",
      "source": [
        "# Hand-written digits recognization\n",
        "\n",
        "This jupyter notebook implements a Neural Network using Pytorch to recognize hand written digits.\n",
        "\n"
      ],
      "metadata": {
        "id": "D80PLYH3VKNw"
      }
    },
    {
      "cell_type": "markdown",
      "source": [
        "### Install Python Libraries"
      ],
      "metadata": {
        "id": "d7MqkdQeWxja"
      }
    },
    {
      "cell_type": "code",
      "source": [
        "!pip install -q numpy pandas torch torchvision matplotlib"
      ],
      "metadata": {
        "id": "CiN9MLdFVqeD"
      },
      "execution_count": 5,
      "outputs": []
    },
    {
      "cell_type": "markdown",
      "source": [
        "### Import libraries"
      ],
      "metadata": {
        "id": "EEU4FFTfW9TB"
      }
    },
    {
      "cell_type": "code",
      "source": [
        "import torch\n",
        "import torchvision\n",
        "import torchvision.transforms as T\n",
        "import torch.nn as nn\n",
        "import torch.nn.functional as F"
      ],
      "metadata": {
        "id": "5xaMxbAhXAsw"
      },
      "execution_count": 52,
      "outputs": []
    },
    {
      "cell_type": "code",
      "source": [
        "transform = T.Compose([\n",
        "    T.ToTensor()\n",
        "])\n",
        "\n",
        "batch_size = 64\n",
        "\n",
        "trainset = torchvision.datasets.MNIST(root='./data', train=True, download=True, transform=transform)\n",
        "testset = torchvision.datasets.MNIST(root='./data', train=False, download=True, transform=transform)\n",
        "\n",
        "trainloader = torch.utils.data.DataLoader(trainset, batch_size=batch_size, shuffle=True, num_workers=1)\n",
        "testloader = torch.utils.data.DataLoader(testset, batch_size=batch_size, shuffle=True, num_workers=1)\n",
        "\n",
        "classes = (0, 1, 2, 3, 4, 5, 6, 7, 8, 9)"
      ],
      "metadata": {
        "id": "wQzhMWULYFIL"
      },
      "execution_count": 68,
      "outputs": []
    },
    {
      "cell_type": "code",
      "source": [
        "import matplotlib.pyplot as plt\n",
        "import numpy as np\n",
        "\n",
        "def imshow(img):\n",
        "  plt.imshow(img.permute(1, 2, 0))\n",
        "  plt.show()\n",
        "\n",
        "dataiter = iter(trainloader)\n",
        "images, labels = next(dataiter)\n",
        "\n",
        "imshow(torchvision.utils.make_grid(images))\n",
        "\n",
        "print(' '.join(f'{classes[labels[j]]}' for j in range(batch_size)))"
      ],
      "metadata": {
        "colab": {
          "base_uri": "https://localhost:8080/",
          "height": 186
        },
        "id": "t33CmVt4ZQ4I",
        "outputId": "11e4f61d-4b64-4ee6-e8ee-b29dba43320d"
      },
      "execution_count": 40,
      "outputs": [
        {
          "output_type": "display_data",
          "data": {
            "text/plain": [
              "<Figure size 640x480 with 1 Axes>"
            ],
            "image/png": "[encoded data removed]"
          },
          "metadata": {}
        },
        {
          "output_type": "stream",
          "name": "stdout",
          "text": [
            "1 4 0 5 6\n"
          ]
        }
      ]
    },
    {
      "cell_type": "code",
      "source": [
        "class NeuralNetworkMNIST(nn.Module):\n",
        "\n",
        "  def __init__(self):\n",
        "    super(NeuralNetworkMNIST, self).__init__()\n",
        "\n",
        "    self.layer_1 = nn.Linear(784, 1024, bias=True)\n",
        "    self.layer_2 = nn.Linear(1024, 1024)\n",
        "    self.output_layer = nn.Linear(1024,10)\n",
        "\n",
        "  def forward(self, x):\n",
        "    x = F.relu(self.layer_1(x))\n",
        "    x = F.relu(self.layer_2(x))\n",
        "    output = self.output_layer(x)\n",
        "\n",
        "    return output"
      ],
      "metadata": {
        "id": "w3OoOSlohq9b"
      },
      "execution_count": 64,
      "outputs": []
    },
    {
      "cell_type": "code",
      "source": [
        "model = NeuralNetworkMNIST()\n",
        "print(model.parameters)"
      ],
      "metadata": {
        "id": "iQYPJwohj27d",
        "outputId": "20b41e52-f449-4ece-f07b-515c6cb1f2d1",
        "colab": {
          "base_uri": "https://localhost:8080/"
        }
      },
      "execution_count": 65,
      "outputs": [
        {
          "output_type": "stream",
          "name": "stdout",
          "text": [
            "<bound method Module.parameters of NeuralNetworkMNIST(\n",
            "  (layer_1): Linear(in_features=784, out_features=1024, bias=True)\n",
            "  (layer_2): Linear(in_features=1024, out_features=1024, bias=True)\n",
            "  (output_layer): Linear(in_features=1024, out_features=10, bias=True)\n",
            ")>\n"
          ]
        }
      ]
    },
    {
      "cell_type": "code",
      "source": [
        "loss_fn = nn.CrossEntropyLoss()\n",
        "optimizer = torch.optim.Adam(model.parameters(), lr=0.001)"
      ],
      "metadata": {
        "id": "gYUr0o_KkZEF"
      },
      "execution_count": 66,
      "outputs": []
    },
    {
      "cell_type": "code",
      "source": [
        "num_epochs = 1\n",
        "\n",
        "for epoch in range(num_epochs):\n",
        "  for i, (images, labels) in enumerate(trainloader):\n",
        "    images = images.reshape(-1, 28*28)\n",
        "\n",
        "    output = model(images)\n",
        "\n",
        "    # Calcualte loss\n",
        "    loss = loss_fn(output, labels)\n",
        "\n",
        "    # Calculate gradient\n",
        "    optimizer.zero_grad() # it will not accumulate gradients\n",
        "    loss.backward()       # Backward propagation\n",
        "    optimizer.step()      # Update parameters\n",
        "\n",
        "    if (i+1) % 100 == 0:\n",
        "      print(f\"epoch={epoch+1}/{num_epochs} step={i+1}/{len(trainloader)}, loss={loss.item()}\")"
      ],
      "metadata": {
        "id": "6-SdzaILksBS",
        "outputId": "b78d553d-bb7c-4200-b5e7-ed5b080fea5f",
        "colab": {
          "base_uri": "https://localhost:8080/"
        }
      },
      "execution_count": 67,
      "outputs": [
        {
          "output_type": "stream",
          "name": "stdout",
          "text": [
            "epoch=1/1 step=100/938, loss=0.46211981773376465\n",
            "epoch=1/1 step=200/938, loss=0.16759881377220154\n",
            "epoch=1/1 step=300/938, loss=0.23736174404621124\n",
            "epoch=1/1 step=400/938, loss=0.1557384878396988\n",
            "epoch=1/1 step=500/938, loss=0.13329365849494934\n",
            "epoch=1/1 step=600/938, loss=0.20785202085971832\n",
            "epoch=1/1 step=700/938, loss=0.14101111888885498\n",
            "epoch=1/1 step=800/938, loss=0.08703545480966568\n",
            "epoch=1/1 step=900/938, loss=0.04832339659333229\n"
          ]
        }
      ]
    },
    {
      "cell_type": "code",
      "source": [
        "test_dataiter = iter(testloader)\n",
        "test_images, test_labels = next(test_dataiter)\n",
        "test_images = test_images.reshape(-1, 28*28)\n",
        "test_labels"
      ],
      "metadata": {
        "id": "U65q9KLPpY9U",
        "outputId": "60b8f3bf-16a3-4560-f6b8-5727d0ce25f7",
        "colab": {
          "base_uri": "https://localhost:8080/"
        }
      },
      "execution_count": 74,
      "outputs": [
        {
          "output_type": "stream",
          "name": "stderr",
          "text": [
            "/usr/lib/python3.10/multiprocessing/popen_fork.py:66: RuntimeWarning: os.fork() was called. os.fork() is incompatible with multithreaded code, and JAX is multithreaded, so this will likely lead to a deadlock.\n",
            "  self.pid = os.fork()\n"
          ]
        },
        {
          "output_type": "execute_result",
          "data": {
            "text/plain": [
              "tensor([4, 4, 6, 0, 2, 3, 0, 4, 6, 2, 3, 4, 3, 0, 6, 1, 8, 6, 8, 5, 4, 1, 9, 2,\n",
              "        0, 2, 1, 9, 6, 8, 5, 4, 1, 9, 6, 7, 4, 8, 9, 3, 8, 6, 2, 6, 2, 6, 3, 6,\n",
              "        2, 5, 3, 1, 7, 3, 9, 2, 7, 0, 5, 3, 1, 7, 4, 1])"
            ]
          },
          "metadata": {},
          "execution_count": 74
        }
      ]
    },
    {
      "cell_type": "code",
      "source": [
        "softmax = nn.Softmax(dim=1)\n",
        "torch.set_printoptions(precision=4)\n",
        "with torch.no_grad():\n",
        "  predictions = model(test_images)\n",
        "  probs = softmax(predictions)\n",
        "  print(f\"{probs}\")"
      ],
      "metadata": {
        "id": "7s0yVOysqGZe",
        "outputId": "130df9de-475f-4a51-a0e5-4f0cdb003f9c",
        "colab": {
          "base_uri": "https://localhost:8080/"
        }
      },
      "execution_count": 100,
      "outputs": [
        {
          "output_type": "stream",
          "name": "stdout",
          "text": [
            "tensor([[7.6417e-07, 8.1019e-06, 9.7482e-06, 3.4976e-06, 9.9521e-01, 1.1042e-05,\n",
            "         1.2349e-07, 4.6088e-04, 1.6313e-06, 4.2952e-03],\n",
            "        [5.1018e-05, 4.3079e-02, 9.4455e-03, 2.6552e-04, 8.9293e-01, 7.2843e-05,\n",
            "         1.8573e-03, 5.2234e-02, 8.6526e-06, 5.1519e-05],\n",
            "        [4.0315e-06, 8.4367e-05, 2.1422e-05, 5.6325e-06, 6.3717e-05, 3.2044e-03,\n",
            "         9.9662e-01, 1.1642e-07, 9.1994e-07, 2.0589e-08],\n",
            "        [9.9973e-01, 1.7542e-07, 2.5060e-05, 4.0449e-06, 2.9773e-07, 2.1709e-04,\n",
            "         3.5657e-06, 7.7041e-07, 4.1770e-06, 1.7935e-05],\n",
            "        [1.9965e-08, 8.9055e-05, 9.9953e-01, 3.1275e-04, 4.8341e-09, 1.1147e-08,\n",
            "         4.4554e-09, 5.4373e-05, 1.7326e-05, 2.4995e-09],\n",
            "        [3.9542e-07, 3.5228e-06, 2.4276e-06, 9.9982e-01, 3.7883e-08, 1.0865e-04,\n",
            "         8.9983e-10, 1.8980e-05, 4.1527e-06, 3.7731e-05],\n",
            "        [1.0000e+00, 5.4880e-12, 6.9127e-08, 2.9965e-11, 2.3284e-10, 5.1524e-11,\n",
            "         1.0487e-09, 2.4076e-10, 2.1718e-09, 5.9326e-08],\n",
            "        [1.4273e-10, 3.6397e-09, 9.3875e-09, 3.3845e-11, 1.0000e+00, 1.9577e-08,\n",
            "         2.4590e-10, 4.4367e-07, 4.5670e-10, 2.1551e-06],\n",
            "        [2.9296e-04, 3.6773e-05, 3.8776e-05, 2.4986e-05, 2.0486e-04, 1.3224e-03,\n",
            "         9.9760e-01, 4.9646e-06, 4.7095e-04, 1.8079e-06],\n",
            "        [1.6626e-03, 2.1007e-04, 9.9178e-01, 4.1366e-03, 6.1454e-05, 4.8882e-05,\n",
            "         2.4652e-05, 1.6978e-03, 3.6052e-04, 2.1150e-05],\n",
            "        [2.8456e-10, 6.8259e-08, 8.8594e-09, 1.0000e+00, 3.1568e-11, 4.2868e-06,\n",
            "         6.1784e-13, 1.8408e-09, 1.4944e-07, 1.5000e-08],\n",
            "        [6.8671e-06, 3.7850e-06, 4.8843e-05, 3.6865e-07, 9.9639e-01, 2.5538e-05,\n",
            "         1.5471e-06, 2.7399e-04, 8.3061e-07, 3.2525e-03],\n",
            "        [7.8915e-11, 6.8310e-08, 1.6356e-08, 1.0000e+00, 5.5331e-11, 4.2720e-07,\n",
            "         7.7336e-14, 2.5117e-09, 8.8391e-07, 2.3744e-08],\n",
            "        [1.0000e+00, 7.7144e-10, 1.2979e-06, 3.8251e-09, 1.4455e-08, 9.2610e-09,\n",
            "         3.8369e-07, 2.7153e-09, 9.8826e-08, 3.1496e-07],\n",
            "        [1.9219e-05, 2.3384e-04, 2.9136e-03, 1.2513e-04, 9.8002e-04, 1.9297e-04,\n",
            "         9.9517e-01, 8.7481e-05, 2.7558e-04, 1.0128e-07],\n",
            "        [1.2578e-08, 9.9996e-01, 3.2022e-06, 3.7979e-08, 5.1812e-06, 1.8026e-07,\n",
            "         2.7600e-07, 3.0060e-05, 7.6573e-07, 2.8792e-08],\n",
            "        [2.2058e-04, 6.2779e-07, 6.8039e-07, 6.1991e-06, 3.8919e-08, 7.0794e-04,\n",
            "         3.3753e-06, 1.2518e-08, 9.9906e-01, 3.5062e-06],\n",
            "        [1.1804e-06, 7.8435e-08, 2.9785e-06, 7.3097e-08, 2.0842e-05, 5.0420e-06,\n",
            "         9.9997e-01, 5.8590e-08, 8.8489e-07, 2.9845e-09],\n",
            "        [3.3683e-06, 6.6430e-07, 3.2326e-07, 6.9095e-06, 2.2233e-07, 2.1089e-06,\n",
            "         5.2034e-08, 6.5114e-08, 9.9997e-01, 1.7829e-05],\n",
            "        [3.7761e-04, 3.2131e-05, 1.5069e-04, 1.9890e-03, 5.6711e-05, 9.8770e-01,\n",
            "         8.0458e-04, 2.0552e-05, 4.5507e-03, 4.3203e-03],\n",
            "        [6.3854e-11, 6.4298e-08, 3.0024e-09, 2.0726e-11, 1.0000e+00, 2.2525e-09,\n",
            "         2.4304e-10, 2.0633e-06, 1.8742e-09, 8.9655e-07],\n",
            "        [3.1487e-09, 9.9997e-01, 9.2329e-07, 2.0936e-08, 4.6320e-06, 3.3705e-08,\n",
            "         4.8378e-08, 2.2570e-05, 4.7477e-07, 4.2816e-08],\n",
            "        [3.5339e-03, 1.9230e-03, 7.5418e-03, 3.1256e-02, 3.1261e-07, 9.5460e-01,\n",
            "         2.1028e-06, 7.1316e-04, 2.6464e-04, 1.6153e-04],\n",
            "        [1.5478e-10, 1.9880e-03, 9.9752e-01, 4.6774e-04, 4.2783e-12, 1.2097e-09,\n",
            "         4.2079e-11, 2.7838e-05, 8.0780e-07, 9.1268e-13],\n",
            "        [1.0000e+00, 3.4336e-10, 5.6142e-07, 1.1345e-09, 1.6740e-09, 1.1342e-08,\n",
            "         1.5264e-08, 2.1397e-08, 1.9297e-08, 3.0533e-07],\n",
            "        [3.1465e-05, 5.8355e-04, 9.9129e-01, 1.6501e-03, 4.1663e-10, 2.3394e-07,\n",
            "         3.4650e-08, 2.1835e-05, 6.4205e-03, 4.7543e-09],\n",
            "        [5.3449e-02, 2.2244e-01, 2.2050e-02, 5.8574e-03, 2.1712e-02, 2.9304e-03,\n",
            "         1.3534e-02, 8.9775e-03, 6.3718e-01, 1.1876e-02],\n",
            "        [8.8914e-09, 1.3334e-10, 2.1307e-09, 4.1900e-07, 4.8801e-06, 1.7134e-07,\n",
            "         2.7549e-13, 1.4754e-06, 4.8458e-07, 9.9999e-01],\n",
            "        [3.2983e-07, 6.9793e-11, 1.2169e-08, 4.5585e-11, 7.6892e-08, 3.3257e-08,\n",
            "         1.0000e+00, 5.2416e-11, 1.2307e-09, 9.8851e-14],\n",
            "        [1.9064e-06, 1.1788e-06, 3.9719e-06, 2.3288e-05, 4.4102e-08, 1.3158e-06,\n",
            "         2.0582e-07, 1.0876e-07, 9.9997e-01, 9.6027e-07],\n",
            "        [1.1863e-08, 1.9381e-10, 5.9244e-11, 7.4220e-07, 1.9933e-12, 1.0000e+00,\n",
            "         3.7495e-11, 1.9589e-09, 1.0430e-06, 6.2347e-07],\n",
            "        [7.0593e-07, 4.5829e-04, 3.0400e-05, 1.3100e-06, 9.9708e-01, 1.6360e-05,\n",
            "         4.0333e-06, 1.2055e-03, 9.4438e-04, 2.5610e-04],\n",
            "        [1.3851e-08, 9.9996e-01, 1.7378e-06, 3.6169e-08, 8.4929e-06, 7.6408e-08,\n",
            "         1.9148e-07, 2.2893e-05, 1.7141e-06, 1.1008e-07],\n",
            "        [9.8295e-08, 2.3696e-07, 1.0351e-07, 2.2121e-06, 3.4496e-04, 1.2412e-06,\n",
            "         3.4837e-11, 7.4983e-05, 1.9135e-05, 9.9956e-01],\n",
            "        [8.3670e-07, 2.7202e-06, 6.4200e-06, 1.8577e-06, 1.6583e-05, 1.6424e-04,\n",
            "         9.9981e-01, 9.8280e-08, 1.1699e-06, 4.3829e-09],\n",
            "        [4.0551e-05, 2.7500e-09, 3.8051e-08, 1.8935e-09, 2.0657e-05, 2.7630e-05,\n",
            "         1.0713e-10, 9.9361e-01, 9.5198e-09, 6.3008e-03],\n",
            "        [2.2093e-08, 1.6593e-07, 1.0515e-06, 1.0163e-08, 9.9991e-01, 8.8395e-07,\n",
            "         1.5752e-08, 1.2194e-05, 9.9226e-09, 7.3514e-05],\n",
            "        [6.7408e-05, 1.4396e-03, 1.0521e-03, 2.9300e-03, 1.1767e-05, 3.5922e-04,\n",
            "         2.0581e-05, 5.3910e-04, 9.9328e-01, 2.9966e-04],\n",
            "        [3.5466e-09, 7.2898e-11, 4.9475e-10, 1.2505e-06, 6.1010e-07, 1.5528e-05,\n",
            "         5.7054e-14, 1.2751e-05, 1.2813e-07, 9.9997e-01],\n",
            "        [2.7662e-10, 2.3455e-07, 1.7435e-08, 1.0000e+00, 4.9243e-10, 8.9904e-07,\n",
            "         1.9893e-13, 2.7726e-09, 2.0823e-08, 1.5337e-07],\n",
            "        [2.5799e-06, 2.9175e-05, 9.0633e-05, 3.1269e-03, 3.1000e-06, 5.0687e-05,\n",
            "         1.0711e-06, 1.1152e-05, 9.9664e-01, 4.7068e-05],\n",
            "        [1.4704e-05, 3.0215e-07, 4.4189e-06, 3.6747e-07, 2.1264e-05, 2.8331e-04,\n",
            "         9.9967e-01, 2.9187e-08, 3.8881e-06, 6.0271e-08],\n",
            "        [6.1601e-06, 8.2208e-08, 9.9999e-01, 2.8128e-06, 3.5386e-08, 8.1415e-10,\n",
            "         1.0893e-08, 1.1156e-07, 2.0335e-08, 1.0899e-09],\n",
            "        [5.8298e-05, 1.0892e-06, 1.0207e-04, 9.9274e-07, 2.2478e-03, 5.0737e-05,\n",
            "         9.9752e-01, 1.9154e-05, 3.0039e-06, 1.5517e-07],\n",
            "        [3.7018e-10, 7.2948e-05, 9.9992e-01, 8.4873e-06, 7.9763e-10, 1.4260e-09,\n",
            "         7.9151e-10, 2.2369e-07, 9.3433e-08, 2.4968e-12],\n",
            "        [1.3151e-02, 1.8443e-03, 3.9252e-04, 1.3625e-02, 9.0799e-04, 4.1872e-01,\n",
            "         5.4634e-01, 1.3783e-04, 3.9033e-03, 9.7177e-04],\n",
            "        [1.5713e-08, 5.9244e-07, 1.3800e-08, 9.9964e-01, 2.8201e-09, 3.3602e-04,\n",
            "         1.2629e-11, 3.8309e-08, 1.7036e-06, 1.9716e-05],\n",
            "        [3.7929e-03, 3.2304e-04, 9.2704e-04, 2.3668e-05, 1.0400e-01, 6.2605e-04,\n",
            "         8.8928e-01, 6.8542e-04, 2.1667e-04, 1.2216e-04],\n",
            "        [2.0968e-05, 7.5576e-04, 9.7897e-01, 1.8322e-02, 1.6489e-04, 2.5284e-05,\n",
            "         2.9760e-05, 1.3438e-03, 3.7001e-04, 8.2911e-07],\n",
            "        [7.3744e-07, 1.0214e-08, 7.5756e-10, 2.5139e-07, 1.6946e-12, 9.9999e-01,\n",
            "         2.6184e-06, 7.2045e-12, 1.4739e-06, 4.0263e-09],\n",
            "        [3.7902e-06, 4.9607e-06, 5.2517e-07, 9.8636e-01, 2.1001e-07, 9.7895e-04,\n",
            "         7.3534e-10, 1.7009e-05, 2.6493e-03, 9.9824e-03],\n",
            "        [1.6915e-05, 9.8875e-01, 9.9674e-04, 3.2145e-04, 3.5324e-04, 3.2512e-04,\n",
            "         7.6030e-05, 6.4614e-03, 2.5702e-03, 1.2444e-04],\n",
            "        [9.1281e-08, 1.1292e-06, 7.7834e-05, 1.0197e-04, 8.1235e-09, 3.1763e-06,\n",
            "         2.4895e-11, 9.9973e-01, 3.4955e-07, 8.2940e-05],\n",
            "        [2.5981e-09, 2.2768e-08, 1.0487e-06, 9.9993e-01, 6.8810e-12, 3.8542e-07,\n",
            "         9.1814e-14, 4.3059e-05, 2.2172e-05, 7.7949e-07],\n",
            "        [3.3082e-05, 5.8444e-05, 1.7726e-05, 8.8845e-02, 3.9279e-04, 1.8574e-03,\n",
            "         2.3707e-08, 2.9570e-05, 2.1761e-01, 6.9116e-01],\n",
            "        [7.8810e-09, 1.2838e-08, 1.0000e+00, 8.9655e-07, 7.0724e-08, 2.0117e-10,\n",
            "         4.6871e-09, 1.1969e-08, 1.7252e-09, 2.2834e-11],\n",
            "        [6.1898e-11, 2.1654e-10, 4.0758e-07, 4.2739e-07, 1.5133e-13, 6.8805e-10,\n",
            "         6.5299e-17, 1.0000e+00, 2.0184e-10, 1.7783e-07],\n",
            "        [9.9993e-01, 1.3842e-12, 4.2796e-09, 1.0261e-10, 1.5247e-15, 7.2212e-05,\n",
            "         4.0917e-11, 7.0361e-11, 2.2699e-10, 1.4056e-10],\n",
            "        [3.6556e-09, 1.2175e-09, 5.8761e-11, 2.1075e-06, 9.5181e-12, 1.0000e+00,\n",
            "         2.7872e-10, 3.2267e-10, 1.1012e-08, 4.3328e-07],\n",
            "        [1.0989e-01, 7.9465e-03, 5.7372e-01, 2.9759e-01, 9.3815e-04, 1.1535e-03,\n",
            "         4.3518e-04, 2.6202e-03, 5.0040e-03, 7.0028e-04],\n",
            "        [1.1644e-07, 9.9968e-01, 5.9411e-05, 4.4065e-06, 1.6022e-05, 3.9081e-06,\n",
            "         2.2920e-06, 2.0582e-04, 3.0994e-05, 8.4281e-07],\n",
            "        [2.5129e-10, 2.8143e-07, 1.5893e-07, 7.8517e-06, 3.2678e-10, 2.4363e-09,\n",
            "         3.6846e-14, 9.9999e-01, 1.2621e-07, 4.2091e-06],\n",
            "        [7.0961e-09, 1.5922e-07, 4.1450e-07, 1.1111e-09, 9.9997e-01, 3.0876e-07,\n",
            "         6.0081e-09, 4.3034e-06, 4.7455e-09, 2.0259e-05],\n",
            "        [8.4993e-07, 9.8090e-01, 9.6824e-05, 4.9830e-06, 1.2729e-04, 2.0911e-06,\n",
            "         6.4818e-07, 1.8704e-02, 8.7263e-05, 7.1112e-05]])\n"
          ]
        }
      ]
    }
  ]
}